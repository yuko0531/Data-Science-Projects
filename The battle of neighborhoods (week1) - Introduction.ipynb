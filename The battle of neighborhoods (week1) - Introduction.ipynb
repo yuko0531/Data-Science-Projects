{
 "nbformat": 4,
 "nbformat_minor": 2,
 "metadata": {
  "language_info": {
   "name": "python",
   "codemirror_mode": {
    "name": "ipython",
    "version": 3
   }
  },
  "orig_nbformat": 2,
  "file_extension": ".py",
  "mimetype": "text/x-python",
  "name": "python",
  "npconvert_exporter": "python",
  "pygments_lexer": "ipython3",
  "version": 3
 },
 "cells": [
  {
   "cell_type": "markdown",
   "execution_count": null,
   "metadata": {},
   "outputs": [],
   "source": [
    "# The Battle of Neighborhoods - Rivalry on the Rhine"
   ]
  },
  {
   "cell_type": "markdown",
   "execution_count": null,
   "metadata": {},
   "outputs": [],
   "source": [
    "## 1. Introduction\n",
    "\n",
    "Cologne (or Köln in German) and Düsseldorf are two major cities in western Germany and lie only about 40 kilometers apart on the Rhine. Despite of similities in cultur, social geography and many other aspects, a competitive relationship between the two cities, also called the rivalry on the Rhine, has been evolved during last decades, which is mainly from historical and economic facts and celebrated folklorically on a sporting and cultural level as \"enmity\". While the larger Cologne with a population of more than 1 million was developed from a Roman colony and later free imperial city, the modern residence city of Düsseldorf that emerged from a small medieval settlement is today the capital of the state of North Rhine-Westphalia.\n",
    "\n",
    "By analyzing publicly available data with modern data science techniques, the primary objective of current project is to investigate/explore how similar and dissimilar both cities are. The results may shed lights on distinctions between the two cities in diverse social and cultural aspects, and help \n",
    "\n",
    "* tourists who would like to spend a few days in one of the two cities or\n",
    "* people/groups who want to choose a place to develop business \n",
    "\n",
    "make their first decision.\n",
    "\n"
   ]
  },
  {
   "cell_type": "code",
   "execution_count": null,
   "metadata": {},
   "outputs": [],
   "source": []
  }
 ]
}