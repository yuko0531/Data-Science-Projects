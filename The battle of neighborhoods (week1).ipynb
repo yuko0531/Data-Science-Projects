{
 "nbformat": 4,
 "nbformat_minor": 2,
 "metadata": {
  "language_info": {
   "name": "python",
   "codemirror_mode": {
    "name": "ipython",
    "version": 3
   }
  },
  "orig_nbformat": 2,
  "file_extension": ".py",
  "mimetype": "text/x-python",
  "name": "python",
  "npconvert_exporter": "python",
  "pygments_lexer": "ipython3",
  "version": 3
 },
 "cells": [
  {
   "cell_type": "markdown",
   "execution_count": null,
   "metadata": {},
   "outputs": [],
   "source": [
    "# The Battle of Neighborhoods - Rivalry on the Rhine"
   ]
  },
  {
   "cell_type": "markdown",
   "execution_count": null,
   "metadata": {},
   "outputs": [],
   "source": [
    "## 1. Introduction\n",
    "\n",
    "Cologne (or Köln in German) and Düsseldorf are two major cities in western Germany and lie only about 40 kilometers apart on the Rhine. Despite of similities in cultur, social geography and many other aspects, a competitive relationship between the two cities, also called the rivalry on the Rhine, has been evolved during last decades, which is mainly from historical and economic facts and celebrated folklorically on a sporting and cultural level as \"enmity\". While the larger Cologne with a population of more than 1 million was developed from a Roman colony and later free imperial city, the modern residence city of Düsseldorf that emerged from a small medieval settlement is today the capital of the state of North Rhine-Westphalia.\n",
    "\n",
    "By analyzing publicly available data with modern data science techniques, the primary objective of current project is to investigate/explore how similar and dissimilar both cities are. The results may shed lights on distinctions between the two cities in diverse social and cultural aspects, and help \n",
    "\n",
    "* tourists who would like to spend a few days in one of the two cities or\n",
    "* people/groups who want to choose a place to develop business \n",
    "\n",
    "make their first decision.\n",
    "\n"
   ]
  },
  {
   "cell_type": "markdown",
   "execution_count": null,
   "metadata": {},
   "outputs": [],
   "source": [
    "## 2. Data Exploration\n",
    "\n",
    "In order to identify similarities or distinctions between Cologne and Düsseldorf, it is desired to investigate and compare boroughs and neighborhoods in both cities. \n",
    "\n",
    "A list of boroughs and neighborhoods containing their names and geographical coordinates can be prepared by scraping wiki and official webpages, and then converted to Pandas dataframes.\n",
    "\n",
    "The Foursquare API will be then applied to explore boroughs and neighborhoods in both cities and segment them. A database/dataframe accumulated by the Foursquare explore function is composed of the most common venue categories in each neighborhood. Each data record corresponds to a venue containing its name, unique ID, location and category. Before any analysis can be performed by data science algorithms, the collected raw data have to be cleaned and prepared.  \n",
    "\n",
    "Various tools/libraries can be used to understand the data. For example, the neighborhoods and their distributions in both cities can be visualized using the Folium library. The word cloud technique, which identifies the venue categories that really stand out in each city, can be used to tell us intuitively how dissimilar the both cities are.\n",
    "\n",
    "The k-means clustering allgorithm is then applied to group the neighborhoods in each city into clusters, which will be compared between both cities for any similarity and distinction. Alternatively, the clustering can be performed for the data set containing all the neighborhoods of both cities. The more the neighborhoods from both cities are assigned to the same groups, the more similar both cities are.   \n",
    "\n",
    "Finally, the neighborhood clusters will be visualized with the Folium library. "
   ]
  },
  {
   "cell_type": "code",
   "execution_count": null,
   "metadata": {},
   "outputs": [],
   "source": []
  }
 ]
}